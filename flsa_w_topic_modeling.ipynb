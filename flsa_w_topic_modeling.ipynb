{
 "cells": [
  {
   "cell_type": "code",
   "execution_count": 3,
   "outputs": [],
   "source": [
    "from nltk.tokenize import word_tokenize\n",
    "import re\n",
    "# from unidecode import unidecode\n",
    "import pandas as pd\n",
    "from nltk.corpus import stopwords\n",
    "stop_words = set(stopwords.words('english'))\n",
    "from collections import Counter\n"
   ],
   "metadata": {
    "collapsed": false,
    "pycharm": {
     "name": "#%%\n"
    }
   }
  },
  {
   "cell_type": "code",
   "execution_count": 6,
   "outputs": [],
   "source": [
    "file_path = \"data/preprocessed_article_data.csv\"\n",
    "data = pd.read_csv(file_path, usecols=['content'],)['content'].tolist()"
   ],
   "metadata": {
    "collapsed": false,
    "pycharm": {
     "name": "#%%\n"
    }
   }
  },
  {
   "cell_type": "code",
   "execution_count": 9,
   "outputs": [],
   "source": [
    "def preprocess_texts(texts, n=0):\n",
    "    \"\"\"\n",
    "    :param texts: Containts the text as string\n",
    "    :param n: percentage of words that should be removed\n",
    "    :return: list of the preprocessed text\n",
    "    \"\"\"\n",
    "    processed_texts = []\n",
    "    for text in texts:\n",
    "        # lowercasing, keep text only, remove accents, tokenization\n",
    "        tokens = [word for word in word_tokenize(re.sub(r'[^a-zA-Z\\s]', '', unidecode(text.lower())))]\n",
    "        # stopword removal\n",
    "        tokens = [token for token in tokens if token not in stopwords.words('english')]\n",
    "        processed_texts.append(tokens)\n",
    "    # remove top-n% and bottom-n% words\n",
    "    if n > 0:\n",
    "        word_freq = Counter([word for sentence in processed_texts for word in sentence])\n",
    "        top_n = set([word for word, _ in word_freq.most_common(int(n/100*len(word_freq)))])\n",
    "        bottom_n = set([word for word, _ in word_freq.most_common()[:-int(n/100*len(word_freq))-1:-1]])\n",
    "        processed_texts = [[word for word in sentence if word not in top_n and word not in bottom_n] for sentence in processed_texts]\n",
    "\n",
    "    return processed_texts"
   ],
   "metadata": {
    "collapsed": false,
    "pycharm": {
     "name": "#%%\n"
    }
   }
  },
  {
   "cell_type": "code",
   "execution_count": 11,
   "outputs": [],
   "source": [
    "def filter_word_from_corpus(data, words):\n",
    "    \"\"\"\n",
    "    Filters out specific words from the corpus.\n",
    "    Parameters:\n",
    "    - data : The corpus, represented by a list of list of tokens.\n",
    "    - words : The words to be filtered. Either a list of tokenized words or a single word.\n",
    "    Returns:\n",
    "    - List[List[str]]: Filtered data where specified words have been removed.\n",
    "    Example:\n",
    "    >> data = [[\"apple\", \"orange\"], [\"apple\", \"banana\"]]\n",
    "    >> filter_data(data, \"apple\")\n",
    "    [[\"orange\"], [\"banana\"]]\n",
    "    \"\"\"\n",
    "    # Ensure words is a list, even if a single string is passed\n",
    "    if isinstance(words, str):\n",
    "        words = [words]\n",
    "    # Filter words from data\n",
    "    filtered_data = [[token for token in row if token not in words] for row in data]\n",
    "    return filtered_data"
   ],
   "metadata": {
    "collapsed": false,
    "pycharm": {
     "name": "#%%\n"
    }
   }
  },
  {
   "cell_type": "code",
   "execution_count": null,
   "outputs": [],
   "source": [],
   "metadata": {
    "collapsed": false,
    "pycharm": {
     "name": "#%%\n"
    }
   }
  },
  {
   "cell_type": "code",
   "execution_count": null,
   "outputs": [],
   "source": [],
   "metadata": {
    "collapsed": false,
    "pycharm": {
     "name": "#%%\n"
    }
   }
  }
 ],
 "metadata": {
  "kernelspec": {
   "display_name": "Python 3",
   "language": "python",
   "name": "python3"
  },
  "language_info": {
   "codemirror_mode": {
    "name": "ipython",
    "version": 2
   },
   "file_extension": ".py",
   "mimetype": "text/x-python",
   "name": "python",
   "nbconvert_exporter": "python",
   "pygments_lexer": "ipython2",
   "version": "2.7.6"
  }
 },
 "nbformat": 4,
 "nbformat_minor": 0
}