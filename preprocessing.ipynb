{
 "cells": [
  {
   "cell_type": "code",
   "execution_count": 1,
   "metadata": {
    "collapsed": true,
    "pycharm": {
     "name": "#%%\n"
    }
   },
   "outputs": [
    {
     "name": "stderr",
     "output_type": "stream",
     "text": [
      "[nltk_data] Downloading package stopwords to\n",
      "[nltk_data]     C:\\Users\\20182877\\AppData\\Roaming\\nltk_data...\n",
      "[nltk_data]   Package stopwords is already up-to-date!\n",
      "[nltk_data] Downloading package wordnet to\n",
      "[nltk_data]     C:\\Users\\20182877\\AppData\\Roaming\\nltk_data...\n",
      "[nltk_data]   Package wordnet is already up-to-date!\n"
     ]
    },
    {
     "data": {
      "text/plain": "True"
     },
     "execution_count": 1,
     "metadata": {},
     "output_type": "execute_result"
    }
   ],
   "source": [
    "import nltk\n",
    "from nltk.stem import WordNetLemmatizer\n",
    "from nltk.corpus import stopwords\n",
    "import re\n",
    "import pandas as pd\n",
    "from typing import List\n",
    "\n",
    "# If you haven't already, you'll need to download these resources.\n",
    "nltk.download('stopwords')\n",
    "nltk.download('wordnet')"
   ]
  },
  {
   "cell_type": "code",
   "execution_count": 2,
   "outputs": [],
   "source": [
    "def preprocess_dataframe_content(df: pd.DataFrame) -> List[List[str]]:\n",
    "    \"\"\"\n",
    "    Preprocesses each entry in the 'content' column of the given DataFrame by:\n",
    "    - Lowercasing\n",
    "    - Keeping only alphabetic characters\n",
    "    - Removing stopwords\n",
    "    - Lemmatizing\n",
    "    - Filtering out words with length less than 3\n",
    "    Tokenizes the preprocessed entry into a list of words.\n",
    "    Returns a list of lists where each inner list is a tokenized and preprocessed entry from the\n",
    "    'content' column of the DataFrame.\n",
    "\n",
    "    Parameters:\n",
    "    - df (pd.DataFrame): The DataFrame containing the 'content' column to be processed.\n",
    "\n",
    "    Returns:\n",
    "    - list: A list of lists, where each inner list is a tokenized and preprocessed entry from the\n",
    "    'content' column of the DataFrame.\n",
    "    \"\"\"\n",
    "    # Prepare lemmatizer and stopwords list\n",
    "    lemmatizer = WordNetLemmatizer()\n",
    "    stop_words = set(stopwords.words('english'))\n",
    "\n",
    "    # Preprocess the content\n",
    "    processed_content = []\n",
    "    for content in df['content']:\n",
    "        # Keep only alphabetic characters and lowercased\n",
    "        tokens = re.sub('[^a-zA-Z\\s]', '', content.lower().strip()).split()\n",
    "        # Remove stopwords and short words, and lemmatize\n",
    "        tokens = [lemmatizer.lemmatize(word) for word in tokens if word not in stop_words and len(word) >= 3]\n",
    "        processed_content.append(tokens)\n",
    "\n",
    "    return processed_content"
   ],
   "metadata": {
    "collapsed": false,
    "pycharm": {
     "name": "#%%\n"
    }
   }
  },
  {
   "cell_type": "code",
   "execution_count": 3,
   "outputs": [],
   "source": [
    "def save_preprocessed_dataframe(df: pd.DataFrame, filename: str) -> None:\n",
    "    \"\"\"\n",
    "    Preprocesses the 'content' column of the given DataFrame using the preprocess_dataframe_content function,\n",
    "    then saves the modified DataFrame to a specified CSV file.\n",
    "\n",
    "    Parameters:\n",
    "    - df (pd.DataFrame): The DataFrame containing the 'content' column to be processed.\n",
    "    - filename (str): The name of the CSV file where the DataFrame should be saved.\n",
    "\n",
    "    Returns:\n",
    "    - None: Saves the DataFrame to a CSV file.\n",
    "    \"\"\"\n",
    "\n",
    "    # Preprocess content\n",
    "    processed_content = preprocess_dataframe_content(df)\n",
    "\n",
    "    # Convert lists of words back to space-separated strings\n",
    "    df['content'] = [' '.join(words) for words in processed_content]\n",
    "\n",
    "    # Save to CSV\n",
    "    df.to_csv(filename, index=False)"
   ],
   "metadata": {
    "collapsed": false,
    "pycharm": {
     "name": "#%%\n"
    }
   }
  },
  {
   "cell_type": "code",
   "execution_count": 4,
   "outputs": [
    {
     "data": {
      "text/plain": "            id ticker                                              title  \\\n0       221515    NIO  Why Shares of Chinese Electric Car Maker NIO A...   \n1       221516    NIO  NIO only consumer gainer  Workhorse Group amon...   \n2       221517    NIO  NIO leads consumer gainers  Beyond Meat and Ma...   \n3       221518    NIO                  NIO  NVAX among premarket gainers   \n4       221519    NIO                  PLUG  NIO among premarket gainers   \n...        ...    ...                                                ...   \n221508  443024      T                     Crude And Steel Still In Sync    \n221509  443025      T  Forget AT T  This Is The Telecom Stock You Sho...   \n221510  443026      T  Wall Street Exposed   Part 3   How Dividends C...   \n221511  443027      T       Weighing The Week Ahead  It s All About Jobs   \n221512  443028      T  Leap Wireless  LEAP    JPM Note and AT T   T M...   \n\n       category                                            content  \\\n0          news  What s happening\\nShares of Chinese electric c...   \n1          news  Gainers  NIO  NYSE NIO   7  \\nLosers  MGP Ingr...   \n2          news  Gainers  NIO  NYSE NIO   14   Village Farms In...   \n3          news  Cemtrex  NASDAQ CETX   85  after FY results \\n...   \n4          news  aTyr Pharma  NASDAQ LIFE   63  on Kyorin Pharm...   \n...         ...                                                ...   \n221508  opinion  We have been reporting on the trade off betwee...   \n221509  opinion  It s the largest cell phone provider in the wo...   \n221510  opinion  Before we dicuss how the mechanism of dividend...   \n221511  opinion  From start to finish  the coming week will hav...   \n221512  opinion  Leap Wireless International  Inc   Leap  is a ...   \n\n       release_date         provider  \\\n0        2020-01-15  The Motley Fool   \n1        2020-01-18    Seeking Alpha   \n2        2020-01-15    Seeking Alpha   \n3        2020-01-15    Seeking Alpha   \n4        2020-01-06    Seeking Alpha   \n...             ...              ...   \n221508   2012-10-04       Ivan Kitov   \n221509   2012-05-30  StreetAuthority   \n221510   2012-07-16   Portfolio Cafe   \n221511   2012-09-02      Jeff Miller   \n221512   2011-12-31   Ophir Gottlieb   \n\n                                                      url  article_id  \n0                                  https://invst.ly/pigqi     2060327  \n1                                  https://invst.ly/pje9c     2062196  \n2                                  https://invst.ly/pifmv     2060249  \n3                                  https://invst.ly/picu8     2060039  \n4       https://seekingalpha.com/news/3529772-plug-nio...     2053096  \n...                                                   ...         ...  \n221508  https://www.investing.com/analysis/crude-and-s...      138733  \n221509  https://www.investing.com/analysis/forget-at-t...      124829  \n221510  https://www.investing.com/analysis/wall-street...      129651  \n221511  https://www.investing.com/analysis/weighing-th...      134926  \n221512  https://www.investing.com/analysis/leap-wirele...      110079  \n\n[221505 rows x 9 columns]",
      "text/html": "<div>\n<style scoped>\n    .dataframe tbody tr th:only-of-type {\n        vertical-align: middle;\n    }\n\n    .dataframe tbody tr th {\n        vertical-align: top;\n    }\n\n    .dataframe thead th {\n        text-align: right;\n    }\n</style>\n<table border=\"1\" class=\"dataframe\">\n  <thead>\n    <tr style=\"text-align: right;\">\n      <th></th>\n      <th>id</th>\n      <th>ticker</th>\n      <th>title</th>\n      <th>category</th>\n      <th>content</th>\n      <th>release_date</th>\n      <th>provider</th>\n      <th>url</th>\n      <th>article_id</th>\n    </tr>\n  </thead>\n  <tbody>\n    <tr>\n      <th>0</th>\n      <td>221515</td>\n      <td>NIO</td>\n      <td>Why Shares of Chinese Electric Car Maker NIO A...</td>\n      <td>news</td>\n      <td>What s happening\\nShares of Chinese electric c...</td>\n      <td>2020-01-15</td>\n      <td>The Motley Fool</td>\n      <td>https://invst.ly/pigqi</td>\n      <td>2060327</td>\n    </tr>\n    <tr>\n      <th>1</th>\n      <td>221516</td>\n      <td>NIO</td>\n      <td>NIO only consumer gainer  Workhorse Group amon...</td>\n      <td>news</td>\n      <td>Gainers  NIO  NYSE NIO   7  \\nLosers  MGP Ingr...</td>\n      <td>2020-01-18</td>\n      <td>Seeking Alpha</td>\n      <td>https://invst.ly/pje9c</td>\n      <td>2062196</td>\n    </tr>\n    <tr>\n      <th>2</th>\n      <td>221517</td>\n      <td>NIO</td>\n      <td>NIO leads consumer gainers  Beyond Meat and Ma...</td>\n      <td>news</td>\n      <td>Gainers  NIO  NYSE NIO   14   Village Farms In...</td>\n      <td>2020-01-15</td>\n      <td>Seeking Alpha</td>\n      <td>https://invst.ly/pifmv</td>\n      <td>2060249</td>\n    </tr>\n    <tr>\n      <th>3</th>\n      <td>221518</td>\n      <td>NIO</td>\n      <td>NIO  NVAX among premarket gainers</td>\n      <td>news</td>\n      <td>Cemtrex  NASDAQ CETX   85  after FY results \\n...</td>\n      <td>2020-01-15</td>\n      <td>Seeking Alpha</td>\n      <td>https://invst.ly/picu8</td>\n      <td>2060039</td>\n    </tr>\n    <tr>\n      <th>4</th>\n      <td>221519</td>\n      <td>NIO</td>\n      <td>PLUG  NIO among premarket gainers</td>\n      <td>news</td>\n      <td>aTyr Pharma  NASDAQ LIFE   63  on Kyorin Pharm...</td>\n      <td>2020-01-06</td>\n      <td>Seeking Alpha</td>\n      <td>https://seekingalpha.com/news/3529772-plug-nio...</td>\n      <td>2053096</td>\n    </tr>\n    <tr>\n      <th>...</th>\n      <td>...</td>\n      <td>...</td>\n      <td>...</td>\n      <td>...</td>\n      <td>...</td>\n      <td>...</td>\n      <td>...</td>\n      <td>...</td>\n      <td>...</td>\n    </tr>\n    <tr>\n      <th>221508</th>\n      <td>443024</td>\n      <td>T</td>\n      <td>Crude And Steel Still In Sync</td>\n      <td>opinion</td>\n      <td>We have been reporting on the trade off betwee...</td>\n      <td>2012-10-04</td>\n      <td>Ivan Kitov</td>\n      <td>https://www.investing.com/analysis/crude-and-s...</td>\n      <td>138733</td>\n    </tr>\n    <tr>\n      <th>221509</th>\n      <td>443025</td>\n      <td>T</td>\n      <td>Forget AT T  This Is The Telecom Stock You Sho...</td>\n      <td>opinion</td>\n      <td>It s the largest cell phone provider in the wo...</td>\n      <td>2012-05-30</td>\n      <td>StreetAuthority</td>\n      <td>https://www.investing.com/analysis/forget-at-t...</td>\n      <td>124829</td>\n    </tr>\n    <tr>\n      <th>221510</th>\n      <td>443026</td>\n      <td>T</td>\n      <td>Wall Street Exposed   Part 3   How Dividends C...</td>\n      <td>opinion</td>\n      <td>Before we dicuss how the mechanism of dividend...</td>\n      <td>2012-07-16</td>\n      <td>Portfolio Cafe</td>\n      <td>https://www.investing.com/analysis/wall-street...</td>\n      <td>129651</td>\n    </tr>\n    <tr>\n      <th>221511</th>\n      <td>443027</td>\n      <td>T</td>\n      <td>Weighing The Week Ahead  It s All About Jobs</td>\n      <td>opinion</td>\n      <td>From start to finish  the coming week will hav...</td>\n      <td>2012-09-02</td>\n      <td>Jeff Miller</td>\n      <td>https://www.investing.com/analysis/weighing-th...</td>\n      <td>134926</td>\n    </tr>\n    <tr>\n      <th>221512</th>\n      <td>443028</td>\n      <td>T</td>\n      <td>Leap Wireless  LEAP    JPM Note and AT T   T M...</td>\n      <td>opinion</td>\n      <td>Leap Wireless International  Inc   Leap  is a ...</td>\n      <td>2011-12-31</td>\n      <td>Ophir Gottlieb</td>\n      <td>https://www.investing.com/analysis/leap-wirele...</td>\n      <td>110079</td>\n    </tr>\n  </tbody>\n</table>\n<p>221505 rows × 9 columns</p>\n</div>"
     },
     "execution_count": 4,
     "metadata": {},
     "output_type": "execute_result"
    }
   ],
   "source": [
    "articles = pd.read_csv(\"data/us_equities_news_dataset.csv\")\n",
    "articles = articles[articles['content'].notna()]\n",
    "articles"
   ],
   "metadata": {
    "collapsed": false,
    "pycharm": {
     "name": "#%%\n"
    }
   }
  },
  {
   "cell_type": "code",
   "execution_count": 5,
   "outputs": [],
   "source": [
    "#Create new dataframe with only articles of which the title contains \"Apple\"\n",
    "#Not all AAPL ticker contain apple in the title and vice versa.\n",
    "apple_articles = articles[articles['title'].str.contains('Apple', case=False)]"
   ],
   "metadata": {
    "collapsed": false,
    "pycharm": {
     "name": "#%%\n"
    }
   }
  },
  {
   "cell_type": "code",
   "execution_count": 6,
   "outputs": [
    {
     "name": "stderr",
     "output_type": "stream",
     "text": [
      "<ipython-input-3-e0897f6583c1>:18: SettingWithCopyWarning: \n",
      "A value is trying to be set on a copy of a slice from a DataFrame.\n",
      "Try using .loc[row_indexer,col_indexer] = value instead\n",
      "\n",
      "See the caveats in the documentation: https://pandas.pydata.org/pandas-docs/stable/user_guide/indexing.html#returning-a-view-versus-a-copy\n",
      "  df['content'] = [' '.join(words) for words in processed_content]\n"
     ]
    }
   ],
   "source": [
    "save_preprocessed_dataframe(apple_articles, 'data/preprocessed_article_data.csv')"
   ],
   "metadata": {
    "collapsed": false,
    "pycharm": {
     "name": "#%%\n"
    }
   }
  }
 ],
 "metadata": {
  "kernelspec": {
   "display_name": "Python 3",
   "language": "python",
   "name": "python3"
  },
  "language_info": {
   "codemirror_mode": {
    "name": "ipython",
    "version": 2
   },
   "file_extension": ".py",
   "mimetype": "text/x-python",
   "name": "python",
   "nbconvert_exporter": "python",
   "pygments_lexer": "ipython2",
   "version": "2.7.6"
  }
 },
 "nbformat": 4,
 "nbformat_minor": 0
}